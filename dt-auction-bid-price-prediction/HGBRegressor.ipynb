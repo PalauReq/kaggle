{
 "cells": [
  {
   "cell_type": "code",
   "execution_count": 33,
   "id": "9f57ed78-196e-4c01-ac92-a697f76a2910",
   "metadata": {
    "execution": {
     "iopub.execute_input": "2022-02-05T12:04:12.337859Z",
     "iopub.status.busy": "2022-02-05T12:04:12.337559Z",
     "iopub.status.idle": "2022-02-05T12:04:12.684618Z",
     "shell.execute_reply": "2022-02-05T12:04:12.684045Z",
     "shell.execute_reply.started": "2022-02-05T12:04:12.337772Z"
    }
   },
   "outputs": [],
   "source": [
    "import numpy as np\n",
    "import pandas as pd\n",
    "import matplotlib.pyplot as plt\n",
    "%matplotlib inline"
   ]
  },
  {
   "cell_type": "code",
   "execution_count": 34,
   "id": "b680d76f-bc97-430a-97d4-9611f9dae4c3",
   "metadata": {
    "execution": {
     "iopub.execute_input": "2022-02-05T16:39:24.484943Z",
     "iopub.status.busy": "2022-02-05T16:39:24.484687Z",
     "iopub.status.idle": "2022-02-05T16:39:25.384754Z",
     "shell.execute_reply": "2022-02-05T16:39:25.383912Z",
     "shell.execute_reply.started": "2022-02-05T16:39:24.484902Z"
    },
    "tags": []
   },
   "outputs": [],
   "source": [
    "train_data = pd.read_csv(\"data/train_data.csv\")"
   ]
  },
  {
   "cell_type": "markdown",
   "id": "0704667e",
   "metadata": {},
   "source": [
    "# EDA"
   ]
  },
  {
   "cell_type": "code",
   "execution_count": 35,
   "id": "1d02e59b",
   "metadata": {},
   "outputs": [
    {
     "data": {
      "text/html": [
       "<div>\n",
       "<style scoped>\n",
       "    .dataframe tbody tr th:only-of-type {\n",
       "        vertical-align: middle;\n",
       "    }\n",
       "\n",
       "    .dataframe tbody tr th {\n",
       "        vertical-align: top;\n",
       "    }\n",
       "\n",
       "    .dataframe thead th {\n",
       "        text-align: right;\n",
       "    }\n",
       "</style>\n",
       "<table border=\"1\" class=\"dataframe\">\n",
       "  <thead>\n",
       "    <tr style=\"text-align: right;\">\n",
       "      <th></th>\n",
       "      <th>eventTimestamp</th>\n",
       "      <th>unitDisplayType</th>\n",
       "      <th>brandName</th>\n",
       "      <th>bundleId</th>\n",
       "      <th>appVersion</th>\n",
       "      <th>correctModelName</th>\n",
       "      <th>countryCode</th>\n",
       "      <th>deviceId</th>\n",
       "      <th>osAndVersion</th>\n",
       "      <th>connectionType</th>\n",
       "      <th>c1</th>\n",
       "      <th>c2</th>\n",
       "      <th>c3</th>\n",
       "      <th>c4</th>\n",
       "      <th>size</th>\n",
       "      <th>mediationProviderVersion</th>\n",
       "      <th>bidFloorPrice</th>\n",
       "      <th>sentPrice</th>\n",
       "      <th>winBid</th>\n",
       "      <th>has_won</th>\n",
       "    </tr>\n",
       "  </thead>\n",
       "  <tbody>\n",
       "    <tr>\n",
       "      <th>0</th>\n",
       "      <td>1656411567773</td>\n",
       "      <td>banner</td>\n",
       "      <td>LG</td>\n",
       "      <td>com.tilegarden.match3</td>\n",
       "      <td>1.8.22</td>\n",
       "      <td>LM-V405</td>\n",
       "      <td>US</td>\n",
       "      <td>74f9b473fad</td>\n",
       "      <td>Android-10.0</td>\n",
       "      <td>3G</td>\n",
       "      <td>cb2</td>\n",
       "      <td>6.0</td>\n",
       "      <td>6b</td>\n",
       "      <td>4.0</td>\n",
       "      <td>320x50</td>\n",
       "      <td>11.2.1</td>\n",
       "      <td>0.01</td>\n",
       "      <td>0.02</td>\n",
       "      <td>0.88</td>\n",
       "      <td>0</td>\n",
       "    </tr>\n",
       "    <tr>\n",
       "      <th>1</th>\n",
       "      <td>1656925395488</td>\n",
       "      <td>banner</td>\n",
       "      <td>Generic</td>\n",
       "      <td>com.loop.match3d</td>\n",
       "      <td>1245.34.0</td>\n",
       "      <td>Android 4.0</td>\n",
       "      <td>FR</td>\n",
       "      <td>6ad4c88b84e</td>\n",
       "      <td>Android-4.0</td>\n",
       "      <td>WIFI</td>\n",
       "      <td>7d3</td>\n",
       "      <td>6.0</td>\n",
       "      <td>6b</td>\n",
       "      <td>6.0</td>\n",
       "      <td>320x50</td>\n",
       "      <td>11.4.2</td>\n",
       "      <td>0.01</td>\n",
       "      <td>0.03</td>\n",
       "      <td>0.08</td>\n",
       "      <td>0</td>\n",
       "    </tr>\n",
       "    <tr>\n",
       "      <th>2</th>\n",
       "      <td>1656913751642</td>\n",
       "      <td>banner</td>\n",
       "      <td>Generic</td>\n",
       "      <td>com.loop.match3d</td>\n",
       "      <td>1245.35.0</td>\n",
       "      <td>Android 4.0</td>\n",
       "      <td>US</td>\n",
       "      <td>743b9849642</td>\n",
       "      <td>Android-4.0</td>\n",
       "      <td>WIFI</td>\n",
       "      <td>7d3</td>\n",
       "      <td>3.0</td>\n",
       "      <td>6b</td>\n",
       "      <td>3.0</td>\n",
       "      <td>320x50</td>\n",
       "      <td>11.4.3</td>\n",
       "      <td>0.01</td>\n",
       "      <td>0.02</td>\n",
       "      <td>1.72</td>\n",
       "      <td>0</td>\n",
       "    </tr>\n",
       "    <tr>\n",
       "      <th>3</th>\n",
       "      <td>1656656319103</td>\n",
       "      <td>banner</td>\n",
       "      <td>Generic</td>\n",
       "      <td>com.loop.match3d</td>\n",
       "      <td>1245.34.0</td>\n",
       "      <td>Android 4.0</td>\n",
       "      <td>GB</td>\n",
       "      <td>6ad933115b2</td>\n",
       "      <td>Android-4.0</td>\n",
       "      <td>WIFI</td>\n",
       "      <td>7d3</td>\n",
       "      <td>3.0</td>\n",
       "      <td>6b</td>\n",
       "      <td>5.0</td>\n",
       "      <td>320x50</td>\n",
       "      <td>11.4.2</td>\n",
       "      <td>0.01</td>\n",
       "      <td>0.06</td>\n",
       "      <td>0.21</td>\n",
       "      <td>0</td>\n",
       "    </tr>\n",
       "    <tr>\n",
       "      <th>4</th>\n",
       "      <td>1657429389462</td>\n",
       "      <td>interstitial</td>\n",
       "      <td>OPPO</td>\n",
       "      <td>com.loop.match3d</td>\n",
       "      <td>1245.35.0</td>\n",
       "      <td>CPH2127</td>\n",
       "      <td>ID</td>\n",
       "      <td>809f9785bb3</td>\n",
       "      <td>Android-11.0</td>\n",
       "      <td>WIFI</td>\n",
       "      <td>8bd</td>\n",
       "      <td>3.0</td>\n",
       "      <td>6b</td>\n",
       "      <td>3.0</td>\n",
       "      <td>320x480</td>\n",
       "      <td>11.4.3</td>\n",
       "      <td>0.01</td>\n",
       "      <td>0.16</td>\n",
       "      <td>1.91</td>\n",
       "      <td>0</td>\n",
       "    </tr>\n",
       "    <tr>\n",
       "      <th>5</th>\n",
       "      <td>1656733933530</td>\n",
       "      <td>banner</td>\n",
       "      <td>Motorola</td>\n",
       "      <td>com.loop.match3d</td>\n",
       "      <td>1245.35.0</td>\n",
       "      <td>One 5G UW</td>\n",
       "      <td>US</td>\n",
       "      <td>744b742a55a</td>\n",
       "      <td>Android-11.0</td>\n",
       "      <td>WIFI</td>\n",
       "      <td>7d3</td>\n",
       "      <td>6.0</td>\n",
       "      <td>6b</td>\n",
       "      <td>8.0</td>\n",
       "      <td>320x50</td>\n",
       "      <td>11.4.3</td>\n",
       "      <td>0.01</td>\n",
       "      <td>0.02</td>\n",
       "      <td>1.90</td>\n",
       "      <td>0</td>\n",
       "    </tr>\n",
       "    <tr>\n",
       "      <th>6</th>\n",
       "      <td>1656764469359</td>\n",
       "      <td>banner</td>\n",
       "      <td>AT&amp;T</td>\n",
       "      <td>com.tilegarden.match3</td>\n",
       "      <td>1.7.83</td>\n",
       "      <td>V350U</td>\n",
       "      <td>US</td>\n",
       "      <td>74c69ddbf47</td>\n",
       "      <td>Android-10.0</td>\n",
       "      <td>3G</td>\n",
       "      <td>cb2</td>\n",
       "      <td>9.0</td>\n",
       "      <td>6b</td>\n",
       "      <td>5.0</td>\n",
       "      <td>320x50</td>\n",
       "      <td>11.1.1</td>\n",
       "      <td>0.01</td>\n",
       "      <td>0.13</td>\n",
       "      <td>1.47</td>\n",
       "      <td>0</td>\n",
       "    </tr>\n",
       "    <tr>\n",
       "      <th>7</th>\n",
       "      <td>1657304610451</td>\n",
       "      <td>banner</td>\n",
       "      <td>Samsung</td>\n",
       "      <td>com.loop.match3d</td>\n",
       "      <td>1245.35.0</td>\n",
       "      <td>SM-T227U</td>\n",
       "      <td>US</td>\n",
       "      <td>74c110245b1</td>\n",
       "      <td>Android-11.0</td>\n",
       "      <td>3G</td>\n",
       "      <td>7d3</td>\n",
       "      <td>7.0</td>\n",
       "      <td>6b</td>\n",
       "      <td>2.0</td>\n",
       "      <td>728x90</td>\n",
       "      <td>11.4.3</td>\n",
       "      <td>0.01</td>\n",
       "      <td>0.03</td>\n",
       "      <td>2.10</td>\n",
       "      <td>0</td>\n",
       "    </tr>\n",
       "    <tr>\n",
       "      <th>8</th>\n",
       "      <td>1656878804685</td>\n",
       "      <td>banner</td>\n",
       "      <td>Samsung</td>\n",
       "      <td>com.tintash.nailsalon</td>\n",
       "      <td>1.3.6</td>\n",
       "      <td>SM-A032M</td>\n",
       "      <td>BR</td>\n",
       "      <td>80155787fb4</td>\n",
       "      <td>Android-11.0</td>\n",
       "      <td>WIFI</td>\n",
       "      <td>ad3</td>\n",
       "      <td>3.0</td>\n",
       "      <td>6b</td>\n",
       "      <td>8.0</td>\n",
       "      <td>320x50</td>\n",
       "      <td>11.3.3</td>\n",
       "      <td>0.01</td>\n",
       "      <td>0.02</td>\n",
       "      <td>0.14</td>\n",
       "      <td>0</td>\n",
       "    </tr>\n",
       "    <tr>\n",
       "      <th>9</th>\n",
       "      <td>1656535501552</td>\n",
       "      <td>banner</td>\n",
       "      <td>Apple</td>\n",
       "      <td>1502447854</td>\n",
       "      <td>1245.34.0</td>\n",
       "      <td>iPhone</td>\n",
       "      <td>RU</td>\n",
       "      <td>74d720f8fb3</td>\n",
       "      <td>iOS-14.4.2</td>\n",
       "      <td>WIFI</td>\n",
       "      <td>59b</td>\n",
       "      <td>9.0</td>\n",
       "      <td>79</td>\n",
       "      <td>9.0</td>\n",
       "      <td>320x50</td>\n",
       "      <td>11.4.1</td>\n",
       "      <td>0.01</td>\n",
       "      <td>0.02</td>\n",
       "      <td>0.20</td>\n",
       "      <td>0</td>\n",
       "    </tr>\n",
       "  </tbody>\n",
       "</table>\n",
       "</div>"
      ],
      "text/plain": [
       "   eventTimestamp unitDisplayType brandName               bundleId appVersion  \\\n",
       "0   1656411567773          banner        LG  com.tilegarden.match3     1.8.22   \n",
       "1   1656925395488          banner   Generic       com.loop.match3d  1245.34.0   \n",
       "2   1656913751642          banner   Generic       com.loop.match3d  1245.35.0   \n",
       "3   1656656319103          banner   Generic       com.loop.match3d  1245.34.0   \n",
       "4   1657429389462    interstitial      OPPO       com.loop.match3d  1245.35.0   \n",
       "5   1656733933530          banner  Motorola       com.loop.match3d  1245.35.0   \n",
       "6   1656764469359          banner      AT&T  com.tilegarden.match3     1.7.83   \n",
       "7   1657304610451          banner   Samsung       com.loop.match3d  1245.35.0   \n",
       "8   1656878804685          banner   Samsung  com.tintash.nailsalon      1.3.6   \n",
       "9   1656535501552          banner     Apple             1502447854  1245.34.0   \n",
       "\n",
       "  correctModelName countryCode     deviceId  osAndVersion connectionType   c1  \\\n",
       "0          LM-V405          US  74f9b473fad  Android-10.0             3G  cb2   \n",
       "1      Android 4.0          FR  6ad4c88b84e   Android-4.0           WIFI  7d3   \n",
       "2      Android 4.0          US  743b9849642   Android-4.0           WIFI  7d3   \n",
       "3      Android 4.0          GB  6ad933115b2   Android-4.0           WIFI  7d3   \n",
       "4          CPH2127          ID  809f9785bb3  Android-11.0           WIFI  8bd   \n",
       "5        One 5G UW          US  744b742a55a  Android-11.0           WIFI  7d3   \n",
       "6            V350U          US  74c69ddbf47  Android-10.0             3G  cb2   \n",
       "7         SM-T227U          US  74c110245b1  Android-11.0             3G  7d3   \n",
       "8         SM-A032M          BR  80155787fb4  Android-11.0           WIFI  ad3   \n",
       "9           iPhone          RU  74d720f8fb3    iOS-14.4.2           WIFI  59b   \n",
       "\n",
       "    c2  c3   c4     size mediationProviderVersion  bidFloorPrice  sentPrice  \\\n",
       "0  6.0  6b  4.0   320x50                   11.2.1           0.01       0.02   \n",
       "1  6.0  6b  6.0   320x50                   11.4.2           0.01       0.03   \n",
       "2  3.0  6b  3.0   320x50                   11.4.3           0.01       0.02   \n",
       "3  3.0  6b  5.0   320x50                   11.4.2           0.01       0.06   \n",
       "4  3.0  6b  3.0  320x480                   11.4.3           0.01       0.16   \n",
       "5  6.0  6b  8.0   320x50                   11.4.3           0.01       0.02   \n",
       "6  9.0  6b  5.0   320x50                   11.1.1           0.01       0.13   \n",
       "7  7.0  6b  2.0   728x90                   11.4.3           0.01       0.03   \n",
       "8  3.0  6b  8.0   320x50                   11.3.3           0.01       0.02   \n",
       "9  9.0  79  9.0   320x50                   11.4.1           0.01       0.02   \n",
       "\n",
       "   winBid  has_won  \n",
       "0    0.88        0  \n",
       "1    0.08        0  \n",
       "2    1.72        0  \n",
       "3    0.21        0  \n",
       "4    1.91        0  \n",
       "5    1.90        0  \n",
       "6    1.47        0  \n",
       "7    2.10        0  \n",
       "8    0.14        0  \n",
       "9    0.20        0  "
      ]
     },
     "execution_count": 35,
     "metadata": {},
     "output_type": "execute_result"
    }
   ],
   "source": [
    "train_data.head(10)"
   ]
  },
  {
   "cell_type": "code",
   "execution_count": 36,
   "id": "80ebc8cc",
   "metadata": {},
   "outputs": [
    {
     "name": "stdout",
     "output_type": "stream",
     "text": [
      "<class 'pandas.core.frame.DataFrame'>\n",
      "RangeIndex: 7321633 entries, 0 to 7321632\n",
      "Data columns (total 20 columns):\n",
      " #   Column                    Non-Null Count    Dtype  \n",
      "---  ------                    --------------    -----  \n",
      " 0   eventTimestamp            7321633 non-null  int64  \n",
      " 1   unitDisplayType           7321633 non-null  object \n",
      " 2   brandName                 7321633 non-null  object \n",
      " 3   bundleId                  7321633 non-null  object \n",
      " 4   appVersion                7321633 non-null  object \n",
      " 5   correctModelName          7321633 non-null  object \n",
      " 6   countryCode               7321606 non-null  object \n",
      " 7   deviceId                  7321633 non-null  object \n",
      " 8   osAndVersion              7321633 non-null  object \n",
      " 9   connectionType            7320967 non-null  object \n",
      " 10  c1                        7321633 non-null  object \n",
      " 11  c2                        7321633 non-null  float64\n",
      " 12  c3                        7321633 non-null  object \n",
      " 13  c4                        7321633 non-null  float64\n",
      " 14  size                      7321633 non-null  object \n",
      " 15  mediationProviderVersion  7321633 non-null  object \n",
      " 16  bidFloorPrice             7321633 non-null  float64\n",
      " 17  sentPrice                 7321633 non-null  float64\n",
      " 18  winBid                    7321633 non-null  float64\n",
      " 19  has_won                   7321633 non-null  int64  \n",
      "dtypes: float64(5), int64(2), object(13)\n",
      "memory usage: 6.1 GB\n"
     ]
    }
   ],
   "source": [
    "train_data.info(memory_usage=\"deep\", show_counts=True)"
   ]
  },
  {
   "cell_type": "code",
   "execution_count": 37,
   "id": "c68b4126",
   "metadata": {},
   "outputs": [
    {
     "data": {
      "text/plain": [
       "eventTimestamp                0\n",
       "unitDisplayType               0\n",
       "brandName                     0\n",
       "bundleId                      0\n",
       "appVersion                    0\n",
       "correctModelName              0\n",
       "countryCode                  27\n",
       "deviceId                      0\n",
       "osAndVersion                  0\n",
       "connectionType              666\n",
       "c1                            0\n",
       "c2                            0\n",
       "c3                            0\n",
       "c4                            0\n",
       "size                          0\n",
       "mediationProviderVersion      0\n",
       "bidFloorPrice                 0\n",
       "sentPrice                     0\n",
       "winBid                        0\n",
       "has_won                       0\n",
       "dtype: int64"
      ]
     },
     "execution_count": 37,
     "metadata": {},
     "output_type": "execute_result"
    }
   ],
   "source": [
    "train_data.isna().sum()"
   ]
  },
  {
   "cell_type": "code",
   "execution_count": 38,
   "id": "c08a8392",
   "metadata": {},
   "outputs": [
    {
     "data": {
      "text/plain": [
       "eventTimestamp              7302171\n",
       "unitDisplayType                   3\n",
       "brandName                       144\n",
       "bundleId                         18\n",
       "appVersion                      101\n",
       "correctModelName               2568\n",
       "countryCode                     168\n",
       "deviceId                      40176\n",
       "osAndVersion                     96\n",
       "connectionType                    3\n",
       "c1                               50\n",
       "c2                                9\n",
       "c3                                4\n",
       "c4                                9\n",
       "size                              6\n",
       "mediationProviderVersion         35\n",
       "bidFloorPrice                     4\n",
       "sentPrice                      7521\n",
       "winBid                        23008\n",
       "has_won                           2\n",
       "dtype: int64"
      ]
     },
     "execution_count": 38,
     "metadata": {},
     "output_type": "execute_result"
    }
   ],
   "source": [
    "train_data.nunique()"
   ]
  },
  {
   "attachments": {},
   "cell_type": "markdown",
   "id": "a5722e3d",
   "metadata": {},
   "source": [
    "# Categorization of variables"
   ]
  },
  {
   "cell_type": "code",
   "execution_count": 39,
   "id": "e88d5ef1",
   "metadata": {},
   "outputs": [],
   "source": [
    "category_columns = (\n",
    "    train_data\n",
    "    .nunique()\n",
    "    .pipe(lambda s: s.loc[s.lt(200)])\n",
    "    .index\n",
    "    .to_list()\n",
    "    )"
   ]
  },
  {
   "cell_type": "code",
   "execution_count": 40,
   "id": "7c4979ef",
   "metadata": {},
   "outputs": [],
   "source": [
    "train_data[category_columns] = train_data[category_columns].astype(\"category\")"
   ]
  },
  {
   "cell_type": "code",
   "execution_count": 41,
   "id": "58334681",
   "metadata": {},
   "outputs": [
    {
     "name": "stdout",
     "output_type": "stream",
     "text": [
      "<class 'pandas.core.frame.DataFrame'>\n",
      "RangeIndex: 7321633 entries, 0 to 7321632\n",
      "Data columns (total 20 columns):\n",
      " #   Column                    Dtype   \n",
      "---  ------                    -----   \n",
      " 0   eventTimestamp            int64   \n",
      " 1   unitDisplayType           category\n",
      " 2   brandName                 category\n",
      " 3   bundleId                  category\n",
      " 4   appVersion                category\n",
      " 5   correctModelName          object  \n",
      " 6   countryCode               category\n",
      " 7   deviceId                  object  \n",
      " 8   osAndVersion              category\n",
      " 9   connectionType            category\n",
      " 10  c1                        category\n",
      " 11  c2                        category\n",
      " 12  c3                        category\n",
      " 13  c4                        category\n",
      " 14  size                      category\n",
      " 15  mediationProviderVersion  category\n",
      " 16  bidFloorPrice             category\n",
      " 17  sentPrice                 float64 \n",
      " 18  winBid                    float64 \n",
      " 19  has_won                   category\n",
      "dtypes: category(15), float64(2), int64(1), object(2)\n",
      "memory usage: 1.2 GB\n"
     ]
    }
   ],
   "source": [
    "train_data.info(memory_usage=\"deep\")"
   ]
  },
  {
   "attachments": {},
   "cell_type": "markdown",
   "id": "2cdec14a",
   "metadata": {},
   "source": [
    "# EDA"
   ]
  },
  {
   "cell_type": "code",
   "execution_count": 42,
   "id": "e9c798da",
   "metadata": {},
   "outputs": [
    {
     "data": {
      "text/plain": [
       "320x50      5188261\n",
       "320x480     1390749\n",
       "728x90       597514\n",
       "768x1024     142453\n",
       "480x320        1842\n",
       "1024x768        814\n",
       "Name: size, dtype: int64"
      ]
     },
     "execution_count": 42,
     "metadata": {},
     "output_type": "execute_result"
    }
   ],
   "source": [
    "train_data[\"size\"].value_counts()"
   ]
  },
  {
   "cell_type": "code",
   "execution_count": null,
   "id": "156825ae",
   "metadata": {},
   "outputs": [],
   "source": []
  },
  {
   "cell_type": "code",
   "execution_count": 43,
   "id": "b4f28591",
   "metadata": {},
   "outputs": [
    {
     "data": {
      "text/plain": [
       "11.2.0-beta3     33880\n",
       "11.0.0-beta3         6\n",
       "10.2.1               0\n",
       "11.3.2-beta1         0\n",
       "11.1.2               0\n",
       "11.1.3-beta5         0\n",
       "11.2.1               0\n",
       "11.3.1               0\n",
       "11.3.2               0\n",
       "11.3.3               0\n",
       "11.1.1-beta3         0\n",
       "11.4.0               0\n",
       "11.4.1               0\n",
       "11.4.2               0\n",
       "11.4.2-beta1         0\n",
       "11.4.3               0\n",
       "11.4.3-beta4         0\n",
       "11.1.1-beta4         0\n",
       "11.1.1-beta2         0\n",
       "10.3.1               0\n",
       "11.1.1               0\n",
       "11.1.0               0\n",
       "11.0.1-beta6         0\n",
       "11.0.1-beta10        0\n",
       "11.0.1-beta1         0\n",
       "11.0.0-beta7         0\n",
       "11.0.0-beta5         0\n",
       "11.0.0-beta4         0\n",
       "11.0.0               0\n",
       "10.3.7               0\n",
       "10.3.6               0\n",
       "10.3.5               0\n",
       "10.3.4               0\n",
       "10.3.2               0\n",
       "11.4.4               0\n",
       "Name: mediationProviderVersion, dtype: int64"
      ]
     },
     "execution_count": 43,
     "metadata": {},
     "output_type": "execute_result"
    }
   ],
   "source": [
    "train_data.loc[train_data[\"mediationProviderVersion\"].str.contains(\"0-beta3\"), \"mediationProviderVersion\"].value_counts()"
   ]
  },
  {
   "cell_type": "code",
   "execution_count": 44,
   "id": "82c983e3",
   "metadata": {},
   "outputs": [
    {
     "data": {
      "text/plain": [
       "<AxesSubplot: xlabel='sentPrice'>"
      ]
     },
     "execution_count": 44,
     "metadata": {},
     "output_type": "execute_result"
    },
    {
     "data": {
      "image/png": "[encoded data removed]",
      "text/plain": [
       "<Figure size 640x480 with 1 Axes>"
      ]
     },
     "metadata": {},
     "output_type": "display_data"
    }
   ],
   "source": [
    "(train_data\n",
    ".groupby(\"sentPrice\")\n",
    ".agg(num_bids = (\"sentPrice\", \"count\"))\n",
    ".cumsum()\n",
    ".apply(lambda x: x/x.max())\n",
    ".plot())"
   ]
  },
  {
   "cell_type": "code",
   "execution_count": 45,
   "id": "9606a979",
   "metadata": {},
   "outputs": [
    {
     "data": {
      "text/plain": [
       "<AxesSubplot: xlabel='logSentPrice'>"
      ]
     },
     "execution_count": 45,
     "metadata": {},
     "output_type": "execute_result"
    },
    {
     "data": {
      "image/png": "[encoded data removed]",
      "text/plain": [
       "<Figure size 640x480 with 1 Axes>"
      ]
     },
     "metadata": {},
     "output_type": "display_data"
    }
   ],
   "source": [
    "(train_data\n",
    ".assign(logSentPrice = lambda x: x.sentPrice.apply(np.log))\n",
    ".groupby(\"logSentPrice\")\n",
    ".agg(num_bids = (\"logSentPrice\", \"count\"))\n",
    ".cumsum()\n",
    ".apply(lambda x: x/x.max())\n",
    ".plot())"
   ]
  },
  {
   "cell_type": "code",
   "execution_count": 46,
   "id": "3e763353",
   "metadata": {},
   "outputs": [
    {
     "data": {
      "text/plain": [
       "0.01    6797762\n",
       "0.05     333847\n",
       "0.1      184991\n",
       "5.0        5033\n",
       "Name: bidFloorPrice, dtype: int64"
      ]
     },
     "execution_count": 46,
     "metadata": {},
     "output_type": "execute_result"
    }
   ],
   "source": [
    "train_data.bidFloorPrice.value_counts()"
   ]
  },
  {
   "cell_type": "code",
   "execution_count": 47,
   "id": "2e6ee642",
   "metadata": {},
   "outputs": [
    {
     "data": {
      "text/plain": [
       "<AxesSubplot: xlabel='winBid'>"
      ]
     },
     "execution_count": 47,
     "metadata": {},
     "output_type": "execute_result"
    },
    {
     "data": {
      "image/png": "[encoded data removed]",
      "text/plain": [
       "<Figure size 640x480 with 1 Axes>"
      ]
     },
     "metadata": {},
     "output_type": "display_data"
    }
   ],
   "source": [
    "(train_data\n",
    ".groupby(\"winBid\")\n",
    ".agg(num_bids = (\"winBid\", \"count\"))\n",
    ".cumsum()\n",
    ".apply(lambda x: x/x.max())\n",
    ".plot())"
   ]
  },
  {
   "cell_type": "code",
   "execution_count": 48,
   "id": "4a6e422d",
   "metadata": {},
   "outputs": [
    {
     "data": {
      "text/plain": [
       "<AxesSubplot: xlabel='logWinBid'>"
      ]
     },
     "execution_count": 48,
     "metadata": {},
     "output_type": "execute_result"
    },
    {
     "data": {
      "image/png": "[encoded data removed]",
      "text/plain": [
       "<Figure size 640x480 with 1 Axes>"
      ]
     },
     "metadata": {},
     "output_type": "display_data"
    }
   ],
   "source": [
    "(train_data\n",
    ".assign(logWinBid = lambda x: x.winBid.apply(np.log))\n",
    ".groupby(\"logWinBid\")\n",
    ".agg(num_bids = (\"logWinBid\", \"count\"))\n",
    ".cumsum()\n",
    ".apply(lambda x: x/x.max())\n",
    ".plot())"
   ]
  },
  {
   "cell_type": "markdown",
   "id": "6d495842",
   "metadata": {},
   "source": [
    "# Augment data"
   ]
  },
  {
   "cell_type": "code",
   "execution_count": 49,
   "id": "4637a7c5",
   "metadata": {},
   "outputs": [],
   "source": [
    "def augment_with_parsing(data: pd.DataFrame) -> pd.DataFrame:\n",
    "    data[\"eventTimestamp\"] = pd.to_datetime(data[\"eventTimestamp\"], unit=\"ms\")\n",
    "    data[\"weekday\"] = data[\"eventTimestamp\"].dt.weekday\n",
    "    data[\"hour\"] = data[\"eventTimestamp\"].dt.hour\n",
    "    data[\"dayOfYear\"] = data[\"eventTimestamp\"].dt.day_of_year\n",
    "\n",
    "    os_and_version = data[\"osAndVersion\"].str.split(\"-\", expand=True)\n",
    "    data[\"os\"] = os_and_version[0]\n",
    "    data[\"osVersion\"] = os_and_version[1]\n",
    "\n",
    "    # data = augment_with_parsed_version(data, os_and_version[1].rename(\"osVersion\"))\n",
    "    # data = augment_with_parsed_version(data, data[\"appVersion\"])\n",
    "    # data = augment_with_parsed_version(data, data[\"mediationProviderVersion\"].str.split(\"-\", expand=True)[0].rename(\"mediationProviderVersion\"))\n",
    "\n",
    "    return data\n",
    "\n",
    "\n",
    "def augment_with_parsed_version(data: pd.DataFrame, version: pd.Series) -> pd.DataFrame:\n",
    "    versions = version.str.split(\".\", expand=True).astype(\"float\")\n",
    "    \n",
    "    data[f\"{version.name}Major\"] = versions[0]\n",
    "    data[f\"{version.name}Minor\"] = versions[1]\n",
    "    data[f\"{version.name}Patch\"] = versions[2]\n",
    "\n",
    "    return data"
   ]
  },
  {
   "cell_type": "code",
   "execution_count": 50,
   "id": "6d028e6e",
   "metadata": {},
   "outputs": [],
   "source": [
    "ad_size_orientation = {\"320x50\": \"portrait\", \"320x480\": \"portrait\", \"728x90\": \"portrait\", \"768x1024\": \"portrait\", \"480x320\": \"landscape\", \"1024x768\": \"landscape\"}\n",
    "ad_size_device_type = {\"320x50\": \"phone\", \"320x480\": \"phone\", \"728x90\": \"tablet\", \"768x1024\": \"tablet\", \"480x320\": \"phone\", \"1024x768\": \"tablet\"}"
   ]
  },
  {
   "cell_type": "code",
   "execution_count": 51,
   "id": "04f9592b",
   "metadata": {},
   "outputs": [],
   "source": [
    "train_data = augment_with_parsing(train_data)\n",
    "train_data[\"deviceOrientation\"] = train_data[\"size\"].map(ad_size_orientation).astype(\"category\")\n",
    "train_data[\"deviceType\"] = train_data[\"size\"].map(ad_size_device_type).astype(\"category\")"
   ]
  },
  {
   "cell_type": "markdown",
   "id": "fe0f728d",
   "metadata": {},
   "source": [
    "# Fit model"
   ]
  },
  {
   "cell_type": "code",
   "execution_count": 52,
   "id": "85131968",
   "metadata": {},
   "outputs": [],
   "source": [
    "n_jobs = 2"
   ]
  },
  {
   "cell_type": "code",
   "execution_count": 53,
   "id": "fe17d159-dfb4-4377-89f0-2718e00818c4",
   "metadata": {
    "execution": {
     "iopub.execute_input": "2022-02-05T16:43:37.479627Z",
     "iopub.status.busy": "2022-02-05T16:43:37.478977Z",
     "iopub.status.idle": "2022-02-05T16:50:52.376994Z",
     "shell.execute_reply": "2022-02-05T16:50:52.376236Z",
     "shell.execute_reply.started": "2022-02-05T16:43:37.479551Z"
    },
    "tags": []
   },
   "outputs": [],
   "source": [
    "from sklearn.preprocessing import OrdinalEncoder, QuantileTransformer, FunctionTransformer\n",
    "from sklearn.pipeline import Pipeline\n",
    "from sklearn.compose import ColumnTransformer, make_column_selector, TransformedTargetRegressor\n",
    "from sklearn.ensemble import HistGradientBoostingRegressor\n",
    "from sklearn.model_selection import GridSearchCV\n",
    "\n",
    "target_col = \"winBid\"\n",
    "parsed_cols = [\"osAndVersion\", \"appVersion\", \"mediationProviderVersion\"]\n",
    "excluded_cols = [\"eventTimestamp\", \"correctModelName\", \"deviceId\", \"has_won\"]\n",
    "feature_cols = [col for col in train_data.columns.tolist() if col not in [target_col, *excluded_cols]]\n",
    "\n",
    "train_X = train_data[feature_cols]\n",
    "train_y = train_data[target_col]\n",
    "\n",
    "categorical_features_mask = [str(dtype) in [\"object\", \"category\"] for dtype in train_X.dtypes.values]\n",
    "categorical_features_index = [i for i, dtype in enumerate(train_X.dtypes.values) if str(dtype) in [\"object\", \"category\"]]\n",
    "\n",
    "def sin_transformer(period):\n",
    "    return FunctionTransformer(lambda x: np.sin(x / period * 2 * np.pi))\n",
    "\n",
    "def cos_transformer(period):\n",
    "    return FunctionTransformer(lambda x: np.cos(x / period * 2 * np.pi))\n",
    "\n",
    "pipe = Pipeline([\n",
    "    (\"ct\", ColumnTransformer([\n",
    "        (\"oe\", OrdinalEncoder(handle_unknown=\"use_encoded_value\", unknown_value=np.nan), make_column_selector(dtype_include=\"object\")),\n",
    "        (\"weekday_sin\", sin_transformer(7), [\"weekday\"]),\n",
    "        (\"weekday_cos\", cos_transformer(7), [\"weekday\"]),\n",
    "        (\"hour_sin\", sin_transformer(24), [\"hour\"]),\n",
    "        (\"hour_cos\", cos_transformer(24), [\"hour\"]),\n",
    "        # (\"ft\", FunctionTransformer(func=np.log, inverse_func=np.exp), [\"sentPrice\", \"np.exp\"]),\n",
    "    ], remainder=\"passthrough\", n_jobs=n_jobs)),\n",
    "    (\"estimator\", TransformedTargetRegressor(\n",
    "        regressor=HistGradientBoostingRegressor(categorical_features=categorical_features_index),\n",
    "        # transformer=QuantileTransformer(n_quantiles=1_000, subsample=200_000 output_distribution=\"normal\", random_state=42)\n",
    "        # func=np.log, inverse_func=np.exp\n",
    "        )\n",
    "    ),\n",
    "])\n",
    "param_grid = {\n",
    "    \"estimator__regressor__l2_regularization\": [0.001], # no significant influence\n",
    "    \"estimator__regressor__learning_rate\": [0.3],  # =0.3\n",
    "    \"estimator__regressor__max_iter\": [200],  # >200\n",
    "    \"estimator__regressor__max_leaf_nodes\": [64], # >64\n",
    "}"
   ]
  },
  {
   "cell_type": "code",
   "execution_count": 54,
   "id": "b972871e",
   "metadata": {},
   "outputs": [
    {
     "data": {
      "text/html": [
       "<style>#sk-container-id-1 {color: black;background-color: white;}#sk-container-id-1 pre{padding: 0;}#sk-container-id-1 div.sk-toggleable {background-color: white;}#sk-container-id-1 label.sk-toggleable__label {cursor: pointer;display: block;width: 100%;margin-bottom: 0;padding: 0.3em;box-sizing: border-box;text-align: center;}#sk-container-id-1 label.sk-toggleable__label-arrow:before {content: \"▸\";float: left;margin-right: 0.25em;color: #696969;}#sk-container-id-1 label.sk-toggleable__label-arrow:hover:before {color: black;}#sk-container-id-1 div.sk-estimator:hover label.sk-toggleable__label-arrow:before {color: black;}#sk-container-id-1 div.sk-toggleable__content {max-height: 0;max-width: 0;overflow: hidden;text-align: left;background-color: #f0f8ff;}#sk-container-id-1 div.sk-toggleable__content pre {margin: 0.2em;color: black;border-radius: 0.25em;background-color: #f0f8ff;}#sk-container-id-1 input.sk-toggleable__control:checked~div.sk-toggleable__content {max-height: 200px;max-width: 100%;overflow: auto;}#sk-container-id-1 input.sk-toggleable__control:checked~label.sk-toggleable__label-arrow:before {content: \"▾\";}#sk-container-id-1 div.sk-estimator input.sk-toggleable__control:checked~label.sk-toggleable__label {background-color: #d4ebff;}#sk-container-id-1 div.sk-label input.sk-toggleable__control:checked~label.sk-toggleable__label {background-color: #d4ebff;}#sk-container-id-1 input.sk-hidden--visually {border: 0;clip: rect(1px 1px 1px 1px);clip: rect(1px, 1px, 1px, 1px);height: 1px;margin: -1px;overflow: hidden;padding: 0;position: absolute;width: 1px;}#sk-container-id-1 div.sk-estimator {font-family: monospace;background-color: #f0f8ff;border: 1px dotted black;border-radius: 0.25em;box-sizing: border-box;margin-bottom: 0.5em;}#sk-container-id-1 div.sk-estimator:hover {background-color: #d4ebff;}#sk-container-id-1 div.sk-parallel-item::after {content: \"\";width: 100%;border-bottom: 1px solid gray;flex-grow: 1;}#sk-container-id-1 div.sk-label:hover label.sk-toggleable__label {background-color: #d4ebff;}#sk-container-id-1 div.sk-serial::before {content: \"\";position: absolute;border-left: 1px solid gray;box-sizing: border-box;top: 0;bottom: 0;left: 50%;z-index: 0;}#sk-container-id-1 div.sk-serial {display: flex;flex-direction: column;align-items: center;background-color: white;padding-right: 0.2em;padding-left: 0.2em;position: relative;}#sk-container-id-1 div.sk-item {position: relative;z-index: 1;}#sk-container-id-1 div.sk-parallel {display: flex;align-items: stretch;justify-content: center;background-color: white;position: relative;}#sk-container-id-1 div.sk-item::before, #sk-container-id-1 div.sk-parallel-item::before {content: \"\";position: absolute;border-left: 1px solid gray;box-sizing: border-box;top: 0;bottom: 0;left: 50%;z-index: -1;}#sk-container-id-1 div.sk-parallel-item {display: flex;flex-direction: column;z-index: 1;position: relative;background-color: white;}#sk-container-id-1 div.sk-parallel-item:first-child::after {align-self: flex-end;width: 50%;}#sk-container-id-1 div.sk-parallel-item:last-child::after {align-self: flex-start;width: 50%;}#sk-container-id-1 div.sk-parallel-item:only-child::after {width: 0;}#sk-container-id-1 div.sk-dashed-wrapped {border: 1px dashed gray;margin: 0 0.4em 0.5em 0.4em;box-sizing: border-box;padding-bottom: 0.4em;background-color: white;}#sk-container-id-1 div.sk-label label {font-family: monospace;font-weight: bold;display: inline-block;line-height: 1.2em;}#sk-container-id-1 div.sk-label-container {text-align: center;}#sk-container-id-1 div.sk-container {/* jupyter's `normalize.less` sets `[hidden] { display: none; }` but bootstrap.min.css set `[hidden] { display: none !important; }` so we also need the `!important` here to be able to override the default hidden behavior on the sphinx rendered scikit-learn.org. See: https://github.com/scikit-learn/scikit-learn/issues/21755 */display: inline-block !important;position: relative;}#sk-container-id-1 div.sk-text-repr-fallback {display: none;}</style><div id=\"sk-container-id-1\" class=\"sk-top-container\"><div class=\"sk-text-repr-fallback\"><pre>Pipeline(steps=[(&#x27;ct&#x27;,\n",
       "                 ColumnTransformer(n_jobs=2, remainder=&#x27;passthrough&#x27;,\n",
       "                                   transformers=[(&#x27;oe&#x27;,\n",
       "                                                  OrdinalEncoder(handle_unknown=&#x27;use_encoded_value&#x27;,\n",
       "                                                                 unknown_value=nan),\n",
       "                                                  &lt;sklearn.compose._column_transformer.make_column_selector object at 0x7f9bd7af83a0&gt;),\n",
       "                                                 (&#x27;weekday_sin&#x27;,\n",
       "                                                  FunctionTransformer(func=&lt;function sin_transformer.&lt;locals&gt;.&lt;lambda&gt; at 0x7f9bd7890ee0&gt;),\n",
       "                                                  [&#x27;wee...\n",
       "                                                  FunctionTransformer(func=&lt;function sin_transformer.&lt;locals&gt;.&lt;lambda&gt; at 0x7f9bd78c6160&gt;),\n",
       "                                                  [&#x27;hour&#x27;]),\n",
       "                                                 (&#x27;hour_cos&#x27;,\n",
       "                                                  FunctionTransformer(func=&lt;function cos_transformer.&lt;locals&gt;.&lt;lambda&gt; at 0x7f9bd78c61f0&gt;),\n",
       "                                                  [&#x27;hour&#x27;])])),\n",
       "                (&#x27;estimator&#x27;,\n",
       "                 TransformedTargetRegressor(regressor=HistGradientBoostingRegressor(categorical_features=[0,\n",
       "                                                                                                          1,\n",
       "                                                                                                          2,\n",
       "                                                                                                          3,\n",
       "                                                                                                          4,\n",
       "                                                                                                          5,\n",
       "                                                                                                          6,\n",
       "                                                                                                          7,\n",
       "                                                                                                          8,\n",
       "                                                                                                          9,\n",
       "                                                                                                          10,\n",
       "                                                                                                          11,\n",
       "                                                                                                          12,\n",
       "                                                                                                          13,\n",
       "                                                                                                          18,\n",
       "                                                                                                          19,\n",
       "                                                                                                          20,\n",
       "                                                                                                          21])))])</pre><b>In a Jupyter environment, please rerun this cell to show the HTML representation or trust the notebook. <br />On GitHub, the HTML representation is unable to render, please try loading this page with nbviewer.org.</b></div><div class=\"sk-container\" hidden><div class=\"sk-item sk-dashed-wrapped\"><div class=\"sk-label-container\"><div class=\"sk-label sk-toggleable\"><input class=\"sk-toggleable__control sk-hidden--visually\" id=\"sk-estimator-id-1\" type=\"checkbox\" ><label for=\"sk-estimator-id-1\" class=\"sk-toggleable__label sk-toggleable__label-arrow\">Pipeline</label><div class=\"sk-toggleable__content\"><pre>Pipeline(steps=[(&#x27;ct&#x27;,\n",
       "                 ColumnTransformer(n_jobs=2, remainder=&#x27;passthrough&#x27;,\n",
       "                                   transformers=[(&#x27;oe&#x27;,\n",
       "                                                  OrdinalEncoder(handle_unknown=&#x27;use_encoded_value&#x27;,\n",
       "                                                                 unknown_value=nan),\n",
       "                                                  &lt;sklearn.compose._column_transformer.make_column_selector object at 0x7f9bd7af83a0&gt;),\n",
       "                                                 (&#x27;weekday_sin&#x27;,\n",
       "                                                  FunctionTransformer(func=&lt;function sin_transformer.&lt;locals&gt;.&lt;lambda&gt; at 0x7f9bd7890ee0&gt;),\n",
       "                                                  [&#x27;wee...\n",
       "                                                  FunctionTransformer(func=&lt;function sin_transformer.&lt;locals&gt;.&lt;lambda&gt; at 0x7f9bd78c6160&gt;),\n",
       "                                                  [&#x27;hour&#x27;]),\n",
       "                                                 (&#x27;hour_cos&#x27;,\n",
       "                                                  FunctionTransformer(func=&lt;function cos_transformer.&lt;locals&gt;.&lt;lambda&gt; at 0x7f9bd78c61f0&gt;),\n",
       "                                                  [&#x27;hour&#x27;])])),\n",
       "                (&#x27;estimator&#x27;,\n",
       "                 TransformedTargetRegressor(regressor=HistGradientBoostingRegressor(categorical_features=[0,\n",
       "                                                                                                          1,\n",
       "                                                                                                          2,\n",
       "                                                                                                          3,\n",
       "                                                                                                          4,\n",
       "                                                                                                          5,\n",
       "                                                                                                          6,\n",
       "                                                                                                          7,\n",
       "                                                                                                          8,\n",
       "                                                                                                          9,\n",
       "                                                                                                          10,\n",
       "                                                                                                          11,\n",
       "                                                                                                          12,\n",
       "                                                                                                          13,\n",
       "                                                                                                          18,\n",
       "                                                                                                          19,\n",
       "                                                                                                          20,\n",
       "                                                                                                          21])))])</pre></div></div></div><div class=\"sk-serial\"><div class=\"sk-item sk-dashed-wrapped\"><div class=\"sk-label-container\"><div class=\"sk-label sk-toggleable\"><input class=\"sk-toggleable__control sk-hidden--visually\" id=\"sk-estimator-id-2\" type=\"checkbox\" ><label for=\"sk-estimator-id-2\" class=\"sk-toggleable__label sk-toggleable__label-arrow\">ct: ColumnTransformer</label><div class=\"sk-toggleable__content\"><pre>ColumnTransformer(n_jobs=2, remainder=&#x27;passthrough&#x27;,\n",
       "                  transformers=[(&#x27;oe&#x27;,\n",
       "                                 OrdinalEncoder(handle_unknown=&#x27;use_encoded_value&#x27;,\n",
       "                                                unknown_value=nan),\n",
       "                                 &lt;sklearn.compose._column_transformer.make_column_selector object at 0x7f9bd7af83a0&gt;),\n",
       "                                (&#x27;weekday_sin&#x27;,\n",
       "                                 FunctionTransformer(func=&lt;function sin_transformer.&lt;locals&gt;.&lt;lambda&gt; at 0x7f9bd7890ee0&gt;),\n",
       "                                 [&#x27;weekday&#x27;]),\n",
       "                                (&#x27;weekday_cos&#x27;,\n",
       "                                 FunctionTransformer(func=&lt;function cos_transformer.&lt;locals&gt;.&lt;lambda&gt; at 0x7f9bd78c60d0&gt;),\n",
       "                                 [&#x27;weekday&#x27;]),\n",
       "                                (&#x27;hour_sin&#x27;,\n",
       "                                 FunctionTransformer(func=&lt;function sin_transformer.&lt;locals&gt;.&lt;lambda&gt; at 0x7f9bd78c6160&gt;),\n",
       "                                 [&#x27;hour&#x27;]),\n",
       "                                (&#x27;hour_cos&#x27;,\n",
       "                                 FunctionTransformer(func=&lt;function cos_transformer.&lt;locals&gt;.&lt;lambda&gt; at 0x7f9bd78c61f0&gt;),\n",
       "                                 [&#x27;hour&#x27;])])</pre></div></div></div><div class=\"sk-parallel\"><div class=\"sk-parallel-item\"><div class=\"sk-item\"><div class=\"sk-label-container\"><div class=\"sk-label sk-toggleable\"><input class=\"sk-toggleable__control sk-hidden--visually\" id=\"sk-estimator-id-3\" type=\"checkbox\" ><label for=\"sk-estimator-id-3\" class=\"sk-toggleable__label sk-toggleable__label-arrow\">oe</label><div class=\"sk-toggleable__content\"><pre>&lt;sklearn.compose._column_transformer.make_column_selector object at 0x7f9bd7af83a0&gt;</pre></div></div></div><div class=\"sk-serial\"><div class=\"sk-item\"><div class=\"sk-estimator sk-toggleable\"><input class=\"sk-toggleable__control sk-hidden--visually\" id=\"sk-estimator-id-4\" type=\"checkbox\" ><label for=\"sk-estimator-id-4\" class=\"sk-toggleable__label sk-toggleable__label-arrow\">OrdinalEncoder</label><div class=\"sk-toggleable__content\"><pre>OrdinalEncoder(handle_unknown=&#x27;use_encoded_value&#x27;, unknown_value=nan)</pre></div></div></div></div></div></div><div class=\"sk-parallel-item\"><div class=\"sk-item\"><div class=\"sk-label-container\"><div class=\"sk-label sk-toggleable\"><input class=\"sk-toggleable__control sk-hidden--visually\" id=\"sk-estimator-id-5\" type=\"checkbox\" ><label for=\"sk-estimator-id-5\" class=\"sk-toggleable__label sk-toggleable__label-arrow\">weekday_sin</label><div class=\"sk-toggleable__content\"><pre>[&#x27;weekday&#x27;]</pre></div></div></div><div class=\"sk-serial\"><div class=\"sk-item\"><div class=\"sk-estimator sk-toggleable\"><input class=\"sk-toggleable__control sk-hidden--visually\" id=\"sk-estimator-id-6\" type=\"checkbox\" ><label for=\"sk-estimator-id-6\" class=\"sk-toggleable__label sk-toggleable__label-arrow\">FunctionTransformer</label><div class=\"sk-toggleable__content\"><pre>FunctionTransformer(func=&lt;function sin_transformer.&lt;locals&gt;.&lt;lambda&gt; at 0x7f9bd7890ee0&gt;)</pre></div></div></div></div></div></div><div class=\"sk-parallel-item\"><div class=\"sk-item\"><div class=\"sk-label-container\"><div class=\"sk-label sk-toggleable\"><input class=\"sk-toggleable__control sk-hidden--visually\" id=\"sk-estimator-id-7\" type=\"checkbox\" ><label for=\"sk-estimator-id-7\" class=\"sk-toggleable__label sk-toggleable__label-arrow\">weekday_cos</label><div class=\"sk-toggleable__content\"><pre>[&#x27;weekday&#x27;]</pre></div></div></div><div class=\"sk-serial\"><div class=\"sk-item\"><div class=\"sk-estimator sk-toggleable\"><input class=\"sk-toggleable__control sk-hidden--visually\" id=\"sk-estimator-id-8\" type=\"checkbox\" ><label for=\"sk-estimator-id-8\" class=\"sk-toggleable__label sk-toggleable__label-arrow\">FunctionTransformer</label><div class=\"sk-toggleable__content\"><pre>FunctionTransformer(func=&lt;function cos_transformer.&lt;locals&gt;.&lt;lambda&gt; at 0x7f9bd78c60d0&gt;)</pre></div></div></div></div></div></div><div class=\"sk-parallel-item\"><div class=\"sk-item\"><div class=\"sk-label-container\"><div class=\"sk-label sk-toggleable\"><input class=\"sk-toggleable__control sk-hidden--visually\" id=\"sk-estimator-id-9\" type=\"checkbox\" ><label for=\"sk-estimator-id-9\" class=\"sk-toggleable__label sk-toggleable__label-arrow\">hour_sin</label><div class=\"sk-toggleable__content\"><pre>[&#x27;hour&#x27;]</pre></div></div></div><div class=\"sk-serial\"><div class=\"sk-item\"><div class=\"sk-estimator sk-toggleable\"><input class=\"sk-toggleable__control sk-hidden--visually\" id=\"sk-estimator-id-10\" type=\"checkbox\" ><label for=\"sk-estimator-id-10\" class=\"sk-toggleable__label sk-toggleable__label-arrow\">FunctionTransformer</label><div class=\"sk-toggleable__content\"><pre>FunctionTransformer(func=&lt;function sin_transformer.&lt;locals&gt;.&lt;lambda&gt; at 0x7f9bd78c6160&gt;)</pre></div></div></div></div></div></div><div class=\"sk-parallel-item\"><div class=\"sk-item\"><div class=\"sk-label-container\"><div class=\"sk-label sk-toggleable\"><input class=\"sk-toggleable__control sk-hidden--visually\" id=\"sk-estimator-id-11\" type=\"checkbox\" ><label for=\"sk-estimator-id-11\" class=\"sk-toggleable__label sk-toggleable__label-arrow\">hour_cos</label><div class=\"sk-toggleable__content\"><pre>[&#x27;hour&#x27;]</pre></div></div></div><div class=\"sk-serial\"><div class=\"sk-item\"><div class=\"sk-estimator sk-toggleable\"><input class=\"sk-toggleable__control sk-hidden--visually\" id=\"sk-estimator-id-12\" type=\"checkbox\" ><label for=\"sk-estimator-id-12\" class=\"sk-toggleable__label sk-toggleable__label-arrow\">FunctionTransformer</label><div class=\"sk-toggleable__content\"><pre>FunctionTransformer(func=&lt;function cos_transformer.&lt;locals&gt;.&lt;lambda&gt; at 0x7f9bd78c61f0&gt;)</pre></div></div></div></div></div></div><div class=\"sk-parallel-item\"><div class=\"sk-item\"><div class=\"sk-label-container\"><div class=\"sk-label sk-toggleable\"><input class=\"sk-toggleable__control sk-hidden--visually\" id=\"sk-estimator-id-13\" type=\"checkbox\" ><label for=\"sk-estimator-id-13\" class=\"sk-toggleable__label sk-toggleable__label-arrow\">remainder</label><div class=\"sk-toggleable__content\"><pre></pre></div></div></div><div class=\"sk-serial\"><div class=\"sk-item\"><div class=\"sk-estimator sk-toggleable\"><input class=\"sk-toggleable__control sk-hidden--visually\" id=\"sk-estimator-id-14\" type=\"checkbox\" ><label for=\"sk-estimator-id-14\" class=\"sk-toggleable__label sk-toggleable__label-arrow\">passthrough</label><div class=\"sk-toggleable__content\"><pre>passthrough</pre></div></div></div></div></div></div></div></div><div class=\"sk-item sk-dashed-wrapped\"><div class=\"sk-label-container\"><div class=\"sk-label sk-toggleable\"><input class=\"sk-toggleable__control sk-hidden--visually\" id=\"sk-estimator-id-15\" type=\"checkbox\" ><label for=\"sk-estimator-id-15\" class=\"sk-toggleable__label sk-toggleable__label-arrow\">estimator: TransformedTargetRegressor</label><div class=\"sk-toggleable__content\"><pre>TransformedTargetRegressor(regressor=HistGradientBoostingRegressor(categorical_features=[0,\n",
       "                                                                                         1,\n",
       "                                                                                         2,\n",
       "                                                                                         3,\n",
       "                                                                                         4,\n",
       "                                                                                         5,\n",
       "                                                                                         6,\n",
       "                                                                                         7,\n",
       "                                                                                         8,\n",
       "                                                                                         9,\n",
       "                                                                                         10,\n",
       "                                                                                         11,\n",
       "                                                                                         12,\n",
       "                                                                                         13,\n",
       "                                                                                         18,\n",
       "                                                                                         19,\n",
       "                                                                                         20,\n",
       "                                                                                         21]))</pre></div></div></div><div class=\"sk-parallel\"><div class=\"sk-parallel-item\"><div class=\"sk-item\"><div class=\"sk-label-container\"><div class=\"sk-label sk-toggleable\"><input class=\"sk-toggleable__control sk-hidden--visually\" id=\"sk-estimator-id-16\" type=\"checkbox\" ><label for=\"sk-estimator-id-16\" class=\"sk-toggleable__label sk-toggleable__label-arrow\">regressor: HistGradientBoostingRegressor</label><div class=\"sk-toggleable__content\"><pre>HistGradientBoostingRegressor(categorical_features=[0, 1, 2, 3, 4, 5, 6, 7, 8,\n",
       "                                                    9, 10, 11, 12, 13, 18, 19,\n",
       "                                                    20, 21])</pre></div></div></div><div class=\"sk-serial\"><div class=\"sk-item\"><div class=\"sk-estimator sk-toggleable\"><input class=\"sk-toggleable__control sk-hidden--visually\" id=\"sk-estimator-id-17\" type=\"checkbox\" ><label for=\"sk-estimator-id-17\" class=\"sk-toggleable__label sk-toggleable__label-arrow\">HistGradientBoostingRegressor</label><div class=\"sk-toggleable__content\"><pre>HistGradientBoostingRegressor(categorical_features=[0, 1, 2, 3, 4, 5, 6, 7, 8,\n",
       "                                                    9, 10, 11, 12, 13, 18, 19,\n",
       "                                                    20, 21])</pre></div></div></div></div></div></div></div></div></div></div></div></div>"
      ],
      "text/plain": [
       "Pipeline(steps=[('ct',\n",
       "                 ColumnTransformer(n_jobs=2, remainder='passthrough',\n",
       "                                   transformers=[('oe',\n",
       "                                                  OrdinalEncoder(handle_unknown='use_encoded_value',\n",
       "                                                                 unknown_value=nan),\n",
       "                                                  <sklearn.compose._column_transformer.make_column_selector object at 0x7f9bd7af83a0>),\n",
       "                                                 ('weekday_sin',\n",
       "                                                  FunctionTransformer(func=<function sin_transformer.<locals>.<lambda> at 0x7f9bd7890ee0>),\n",
       "                                                  ['wee...\n",
       "                                                  FunctionTransformer(func=<function sin_transformer.<locals>.<lambda> at 0x7f9bd78c6160>),\n",
       "                                                  ['hour']),\n",
       "                                                 ('hour_cos',\n",
       "                                                  FunctionTransformer(func=<function cos_transformer.<locals>.<lambda> at 0x7f9bd78c61f0>),\n",
       "                                                  ['hour'])])),\n",
       "                ('estimator',\n",
       "                 TransformedTargetRegressor(regressor=HistGradientBoostingRegressor(categorical_features=[0,\n",
       "                                                                                                          1,\n",
       "                                                                                                          2,\n",
       "                                                                                                          3,\n",
       "                                                                                                          4,\n",
       "                                                                                                          5,\n",
       "                                                                                                          6,\n",
       "                                                                                                          7,\n",
       "                                                                                                          8,\n",
       "                                                                                                          9,\n",
       "                                                                                                          10,\n",
       "                                                                                                          11,\n",
       "                                                                                                          12,\n",
       "                                                                                                          13,\n",
       "                                                                                                          18,\n",
       "                                                                                                          19,\n",
       "                                                                                                          20,\n",
       "                                                                                                          21])))])"
      ]
     },
     "execution_count": 54,
     "metadata": {},
     "output_type": "execute_result"
    }
   ],
   "source": [
    "from sklearn import set_config\n",
    "set_config(display='diagram') \n",
    "pipe"
   ]
  },
  {
   "cell_type": "code",
   "execution_count": 55,
   "id": "b941ba44",
   "metadata": {},
   "outputs": [
    {
     "name": "stdout",
     "output_type": "stream",
     "text": [
      "Fitting 5 folds for each of 1 candidates, totalling 5 fits\n"
     ]
    },
    {
     "ename": "ValueError",
     "evalue": "could not convert string to float: 'banner'",
     "output_type": "error",
     "traceback": [
      "\u001b[0;31m---------------------------------------------------------------------------\u001b[0m",
      "\u001b[0;31m_RemoteTraceback\u001b[0m                          Traceback (most recent call last)",
      "\u001b[0;31m_RemoteTraceback\u001b[0m: \n\"\"\"\nTraceback (most recent call last):\n  File \"/home/oriol/Documents/personal/kaggle/dt-auction-bid-price-prediction/venv/lib/python3.8/site-packages/joblib/externals/loky/process_executor.py\", line 428, in _process_worker\n    r = call_item()\n  File \"/home/oriol/Documents/personal/kaggle/dt-auction-bid-price-prediction/venv/lib/python3.8/site-packages/joblib/externals/loky/process_executor.py\", line 275, in __call__\n    return self.fn(*self.args, **self.kwargs)\n  File \"/home/oriol/Documents/personal/kaggle/dt-auction-bid-price-prediction/venv/lib/python3.8/site-packages/joblib/_parallel_backends.py\", line 620, in __call__\n    return self.func(*args, **kwargs)\n  File \"/home/oriol/Documents/personal/kaggle/dt-auction-bid-price-prediction/venv/lib/python3.8/site-packages/joblib/parallel.py\", line 288, in __call__\n    return [func(*args, **kwargs)\n  File \"/home/oriol/Documents/personal/kaggle/dt-auction-bid-price-prediction/venv/lib/python3.8/site-packages/joblib/parallel.py\", line 288, in <listcomp>\n    return [func(*args, **kwargs)\n  File \"/home/oriol/Documents/personal/kaggle/dt-auction-bid-price-prediction/venv/lib/python3.8/site-packages/sklearn/utils/fixes.py\", line 117, in __call__\n    return self.function(*args, **kwargs)\n  File \"/home/oriol/Documents/personal/kaggle/dt-auction-bid-price-prediction/venv/lib/python3.8/site-packages/sklearn/model_selection/_validation.py\", line 686, in _fit_and_score\n    estimator.fit(X_train, y_train, **fit_params)\n  File \"/home/oriol/Documents/personal/kaggle/dt-auction-bid-price-prediction/venv/lib/python3.8/site-packages/sklearn/pipeline.py\", line 382, in fit\n    self._final_estimator.fit(Xt, y, **fit_params_last_step)\n  File \"/home/oriol/Documents/personal/kaggle/dt-auction-bid-price-prediction/venv/lib/python3.8/site-packages/sklearn/compose/_target.py\", line 252, in fit\n    self.regressor_.fit(X, y_trans, **fit_params)\n  File \"/home/oriol/Documents/personal/kaggle/dt-auction-bid-price-prediction/venv/lib/python3.8/site-packages/sklearn/ensemble/_hist_gradient_boosting/gradient_boosting.py\", line 287, in fit\n    X, y = self._validate_data(X, y, dtype=[X_DTYPE], force_all_finite=False)\n  File \"/home/oriol/Documents/personal/kaggle/dt-auction-bid-price-prediction/venv/lib/python3.8/site-packages/sklearn/base.py\", line 596, in _validate_data\n    X, y = check_X_y(X, y, **check_params)\n  File \"/home/oriol/Documents/personal/kaggle/dt-auction-bid-price-prediction/venv/lib/python3.8/site-packages/sklearn/utils/validation.py\", line 1074, in check_X_y\n    X = check_array(\n  File \"/home/oriol/Documents/personal/kaggle/dt-auction-bid-price-prediction/venv/lib/python3.8/site-packages/sklearn/utils/validation.py\", line 856, in check_array\n    array = np.asarray(array, order=order, dtype=dtype)\nValueError: could not convert string to float: 'banner'\n\"\"\"",
      "\nThe above exception was the direct cause of the following exception:\n",
      "\u001b[0;31mValueError\u001b[0m                                Traceback (most recent call last)",
      "Cell \u001b[0;32mIn [55], line 1\u001b[0m\n\u001b[0;32m----> 1\u001b[0m search \u001b[39m=\u001b[39m GridSearchCV(pipe, param_grid, cv\u001b[39m=\u001b[39;49m\u001b[39m5\u001b[39;49m, n_jobs\u001b[39m=\u001b[39;49mn_jobs, scoring\u001b[39m=\u001b[39;49m\u001b[39m\"\u001b[39;49m\u001b[39mneg_root_mean_squared_error\u001b[39;49m\u001b[39m\"\u001b[39;49m, verbose\u001b[39m=\u001b[39;49m\u001b[39m4\u001b[39;49m, error_score\u001b[39m=\u001b[39;49m\u001b[39m\"\u001b[39;49m\u001b[39mraise\u001b[39;49m\u001b[39m\"\u001b[39;49m)\u001b[39m.\u001b[39;49mfit(train_X, train_y)\n",
      "File \u001b[0;32m~/Documents/personal/kaggle/dt-auction-bid-price-prediction/venv/lib/python3.8/site-packages/sklearn/model_selection/_search.py:875\u001b[0m, in \u001b[0;36mBaseSearchCV.fit\u001b[0;34m(self, X, y, groups, **fit_params)\u001b[0m\n\u001b[1;32m    869\u001b[0m     results \u001b[39m=\u001b[39m \u001b[39mself\u001b[39m\u001b[39m.\u001b[39m_format_results(\n\u001b[1;32m    870\u001b[0m         all_candidate_params, n_splits, all_out, all_more_results\n\u001b[1;32m    871\u001b[0m     )\n\u001b[1;32m    873\u001b[0m     \u001b[39mreturn\u001b[39;00m results\n\u001b[0;32m--> 875\u001b[0m \u001b[39mself\u001b[39;49m\u001b[39m.\u001b[39;49m_run_search(evaluate_candidates)\n\u001b[1;32m    877\u001b[0m \u001b[39m# multimetric is determined here because in the case of a callable\u001b[39;00m\n\u001b[1;32m    878\u001b[0m \u001b[39m# self.scoring the return type is only known after calling\u001b[39;00m\n\u001b[1;32m    879\u001b[0m first_test_score \u001b[39m=\u001b[39m all_out[\u001b[39m0\u001b[39m][\u001b[39m\"\u001b[39m\u001b[39mtest_scores\u001b[39m\u001b[39m\"\u001b[39m]\n",
      "File \u001b[0;32m~/Documents/personal/kaggle/dt-auction-bid-price-prediction/venv/lib/python3.8/site-packages/sklearn/model_selection/_search.py:1379\u001b[0m, in \u001b[0;36mGridSearchCV._run_search\u001b[0;34m(self, evaluate_candidates)\u001b[0m\n\u001b[1;32m   1377\u001b[0m \u001b[39mdef\u001b[39;00m \u001b[39m_run_search\u001b[39m(\u001b[39mself\u001b[39m, evaluate_candidates):\n\u001b[1;32m   1378\u001b[0m     \u001b[39m\"\"\"Search all candidates in param_grid\"\"\"\u001b[39;00m\n\u001b[0;32m-> 1379\u001b[0m     evaluate_candidates(ParameterGrid(\u001b[39mself\u001b[39;49m\u001b[39m.\u001b[39;49mparam_grid))\n",
      "File \u001b[0;32m~/Documents/personal/kaggle/dt-auction-bid-price-prediction/venv/lib/python3.8/site-packages/sklearn/model_selection/_search.py:822\u001b[0m, in \u001b[0;36mBaseSearchCV.fit.<locals>.evaluate_candidates\u001b[0;34m(candidate_params, cv, more_results)\u001b[0m\n\u001b[1;32m    814\u001b[0m \u001b[39mif\u001b[39;00m \u001b[39mself\u001b[39m\u001b[39m.\u001b[39mverbose \u001b[39m>\u001b[39m \u001b[39m0\u001b[39m:\n\u001b[1;32m    815\u001b[0m     \u001b[39mprint\u001b[39m(\n\u001b[1;32m    816\u001b[0m         \u001b[39m\"\u001b[39m\u001b[39mFitting \u001b[39m\u001b[39m{0}\u001b[39;00m\u001b[39m folds for each of \u001b[39m\u001b[39m{1}\u001b[39;00m\u001b[39m candidates,\u001b[39m\u001b[39m\"\u001b[39m\n\u001b[1;32m    817\u001b[0m         \u001b[39m\"\u001b[39m\u001b[39m totalling \u001b[39m\u001b[39m{2}\u001b[39;00m\u001b[39m fits\u001b[39m\u001b[39m\"\u001b[39m\u001b[39m.\u001b[39mformat(\n\u001b[1;32m    818\u001b[0m             n_splits, n_candidates, n_candidates \u001b[39m*\u001b[39m n_splits\n\u001b[1;32m    819\u001b[0m         )\n\u001b[1;32m    820\u001b[0m     )\n\u001b[0;32m--> 822\u001b[0m out \u001b[39m=\u001b[39m parallel(\n\u001b[1;32m    823\u001b[0m     delayed(_fit_and_score)(\n\u001b[1;32m    824\u001b[0m         clone(base_estimator),\n\u001b[1;32m    825\u001b[0m         X,\n\u001b[1;32m    826\u001b[0m         y,\n\u001b[1;32m    827\u001b[0m         train\u001b[39m=\u001b[39;49mtrain,\n\u001b[1;32m    828\u001b[0m         test\u001b[39m=\u001b[39;49mtest,\n\u001b[1;32m    829\u001b[0m         parameters\u001b[39m=\u001b[39;49mparameters,\n\u001b[1;32m    830\u001b[0m         split_progress\u001b[39m=\u001b[39;49m(split_idx, n_splits),\n\u001b[1;32m    831\u001b[0m         candidate_progress\u001b[39m=\u001b[39;49m(cand_idx, n_candidates),\n\u001b[1;32m    832\u001b[0m         \u001b[39m*\u001b[39;49m\u001b[39m*\u001b[39;49mfit_and_score_kwargs,\n\u001b[1;32m    833\u001b[0m     )\n\u001b[1;32m    834\u001b[0m     \u001b[39mfor\u001b[39;49;00m (cand_idx, parameters), (split_idx, (train, test)) \u001b[39min\u001b[39;49;00m product(\n\u001b[1;32m    835\u001b[0m         \u001b[39menumerate\u001b[39;49m(candidate_params), \u001b[39menumerate\u001b[39;49m(cv\u001b[39m.\u001b[39;49msplit(X, y, groups))\n\u001b[1;32m    836\u001b[0m     )\n\u001b[1;32m    837\u001b[0m )\n\u001b[1;32m    839\u001b[0m \u001b[39mif\u001b[39;00m \u001b[39mlen\u001b[39m(out) \u001b[39m<\u001b[39m \u001b[39m1\u001b[39m:\n\u001b[1;32m    840\u001b[0m     \u001b[39mraise\u001b[39;00m \u001b[39mValueError\u001b[39;00m(\n\u001b[1;32m    841\u001b[0m         \u001b[39m\"\u001b[39m\u001b[39mNo fits were performed. \u001b[39m\u001b[39m\"\u001b[39m\n\u001b[1;32m    842\u001b[0m         \u001b[39m\"\u001b[39m\u001b[39mWas the CV iterator empty? \u001b[39m\u001b[39m\"\u001b[39m\n\u001b[1;32m    843\u001b[0m         \u001b[39m\"\u001b[39m\u001b[39mWere there no candidates?\u001b[39m\u001b[39m\"\u001b[39m\n\u001b[1;32m    844\u001b[0m     )\n",
      "File \u001b[0;32m~/Documents/personal/kaggle/dt-auction-bid-price-prediction/venv/lib/python3.8/site-packages/joblib/parallel.py:1098\u001b[0m, in \u001b[0;36mParallel.__call__\u001b[0;34m(self, iterable)\u001b[0m\n\u001b[1;32m   1095\u001b[0m     \u001b[39mself\u001b[39m\u001b[39m.\u001b[39m_iterating \u001b[39m=\u001b[39m \u001b[39mFalse\u001b[39;00m\n\u001b[1;32m   1097\u001b[0m \u001b[39mwith\u001b[39;00m \u001b[39mself\u001b[39m\u001b[39m.\u001b[39m_backend\u001b[39m.\u001b[39mretrieval_context():\n\u001b[0;32m-> 1098\u001b[0m     \u001b[39mself\u001b[39;49m\u001b[39m.\u001b[39;49mretrieve()\n\u001b[1;32m   1099\u001b[0m \u001b[39m# Make sure that we get a last message telling us we are done\u001b[39;00m\n\u001b[1;32m   1100\u001b[0m elapsed_time \u001b[39m=\u001b[39m time\u001b[39m.\u001b[39mtime() \u001b[39m-\u001b[39m \u001b[39mself\u001b[39m\u001b[39m.\u001b[39m_start_time\n",
      "File \u001b[0;32m~/Documents/personal/kaggle/dt-auction-bid-price-prediction/venv/lib/python3.8/site-packages/joblib/parallel.py:975\u001b[0m, in \u001b[0;36mParallel.retrieve\u001b[0;34m(self)\u001b[0m\n\u001b[1;32m    973\u001b[0m \u001b[39mtry\u001b[39;00m:\n\u001b[1;32m    974\u001b[0m     \u001b[39mif\u001b[39;00m \u001b[39mgetattr\u001b[39m(\u001b[39mself\u001b[39m\u001b[39m.\u001b[39m_backend, \u001b[39m'\u001b[39m\u001b[39msupports_timeout\u001b[39m\u001b[39m'\u001b[39m, \u001b[39mFalse\u001b[39;00m):\n\u001b[0;32m--> 975\u001b[0m         \u001b[39mself\u001b[39m\u001b[39m.\u001b[39m_output\u001b[39m.\u001b[39mextend(job\u001b[39m.\u001b[39;49mget(timeout\u001b[39m=\u001b[39;49m\u001b[39mself\u001b[39;49m\u001b[39m.\u001b[39;49mtimeout))\n\u001b[1;32m    976\u001b[0m     \u001b[39melse\u001b[39;00m:\n\u001b[1;32m    977\u001b[0m         \u001b[39mself\u001b[39m\u001b[39m.\u001b[39m_output\u001b[39m.\u001b[39mextend(job\u001b[39m.\u001b[39mget())\n",
      "File \u001b[0;32m~/Documents/personal/kaggle/dt-auction-bid-price-prediction/venv/lib/python3.8/site-packages/joblib/_parallel_backends.py:567\u001b[0m, in \u001b[0;36mLokyBackend.wrap_future_result\u001b[0;34m(future, timeout)\u001b[0m\n\u001b[1;32m    564\u001b[0m \u001b[39m\"\"\"Wrapper for Future.result to implement the same behaviour as\u001b[39;00m\n\u001b[1;32m    565\u001b[0m \u001b[39mAsyncResults.get from multiprocessing.\"\"\"\u001b[39;00m\n\u001b[1;32m    566\u001b[0m \u001b[39mtry\u001b[39;00m:\n\u001b[0;32m--> 567\u001b[0m     \u001b[39mreturn\u001b[39;00m future\u001b[39m.\u001b[39;49mresult(timeout\u001b[39m=\u001b[39;49mtimeout)\n\u001b[1;32m    568\u001b[0m \u001b[39mexcept\u001b[39;00m CfTimeoutError \u001b[39mas\u001b[39;00m e:\n\u001b[1;32m    569\u001b[0m     \u001b[39mraise\u001b[39;00m \u001b[39mTimeoutError\u001b[39;00m \u001b[39mfrom\u001b[39;00m \u001b[39me\u001b[39;00m\n",
      "File \u001b[0;32m/usr/lib/python3.8/concurrent/futures/_base.py:444\u001b[0m, in \u001b[0;36mFuture.result\u001b[0;34m(self, timeout)\u001b[0m\n\u001b[1;32m    442\u001b[0m     \u001b[39mraise\u001b[39;00m CancelledError()\n\u001b[1;32m    443\u001b[0m \u001b[39melif\u001b[39;00m \u001b[39mself\u001b[39m\u001b[39m.\u001b[39m_state \u001b[39m==\u001b[39m FINISHED:\n\u001b[0;32m--> 444\u001b[0m     \u001b[39mreturn\u001b[39;00m \u001b[39mself\u001b[39;49m\u001b[39m.\u001b[39;49m__get_result()\n\u001b[1;32m    445\u001b[0m \u001b[39melse\u001b[39;00m:\n\u001b[1;32m    446\u001b[0m     \u001b[39mraise\u001b[39;00m \u001b[39mTimeoutError\u001b[39;00m()\n",
      "File \u001b[0;32m/usr/lib/python3.8/concurrent/futures/_base.py:389\u001b[0m, in \u001b[0;36mFuture.__get_result\u001b[0;34m(self)\u001b[0m\n\u001b[1;32m    387\u001b[0m \u001b[39mif\u001b[39;00m \u001b[39mself\u001b[39m\u001b[39m.\u001b[39m_exception:\n\u001b[1;32m    388\u001b[0m     \u001b[39mtry\u001b[39;00m:\n\u001b[0;32m--> 389\u001b[0m         \u001b[39mraise\u001b[39;00m \u001b[39mself\u001b[39m\u001b[39m.\u001b[39m_exception\n\u001b[1;32m    390\u001b[0m     \u001b[39mfinally\u001b[39;00m:\n\u001b[1;32m    391\u001b[0m         \u001b[39m# Break a reference cycle with the exception in self._exception\u001b[39;00m\n\u001b[1;32m    392\u001b[0m         \u001b[39mself\u001b[39m \u001b[39m=\u001b[39m \u001b[39mNone\u001b[39;00m\n",
      "\u001b[0;31mValueError\u001b[0m: could not convert string to float: 'banner'"
     ]
    }
   ],
   "source": [
    "search = GridSearchCV(pipe, param_grid, cv=5, n_jobs=n_jobs, scoring=\"neg_root_mean_squared_error\", verbose=4, error_score=\"raise\").fit(train_X, train_y)"
   ]
  },
  {
   "cell_type": "code",
   "execution_count": null,
   "id": "1ae08397-a13f-4c25-a5aa-250c0a72ffe8",
   "metadata": {
    "execution": {
     "iopub.execute_input": "2022-02-07T07:08:44.737198Z",
     "iopub.status.busy": "2022-02-07T07:08:44.736945Z",
     "iopub.status.idle": "2022-02-07T07:08:44.765472Z",
     "shell.execute_reply": "2022-02-07T07:08:44.764218Z",
     "shell.execute_reply.started": "2022-02-07T07:08:44.737176Z"
    }
   },
   "outputs": [
    {
     "data": {
      "text/html": [
       "<div>\n",
       "<style scoped>\n",
       "    .dataframe tbody tr th:only-of-type {\n",
       "        vertical-align: middle;\n",
       "    }\n",
       "\n",
       "    .dataframe tbody tr th {\n",
       "        vertical-align: top;\n",
       "    }\n",
       "\n",
       "    .dataframe thead th {\n",
       "        text-align: right;\n",
       "    }\n",
       "</style>\n",
       "<table border=\"1\" class=\"dataframe\">\n",
       "  <thead>\n",
       "    <tr style=\"text-align: right;\">\n",
       "      <th></th>\n",
       "      <th>mean_fit_time</th>\n",
       "      <th>std_fit_time</th>\n",
       "      <th>mean_score_time</th>\n",
       "      <th>std_score_time</th>\n",
       "      <th>param_estimator__regressor__l2_regularization</th>\n",
       "      <th>param_estimator__regressor__learning_rate</th>\n",
       "      <th>param_estimator__regressor__max_iter</th>\n",
       "      <th>param_estimator__regressor__max_leaf_nodes</th>\n",
       "      <th>params</th>\n",
       "      <th>split0_test_score</th>\n",
       "      <th>split1_test_score</th>\n",
       "      <th>split2_test_score</th>\n",
       "      <th>split3_test_score</th>\n",
       "      <th>split4_test_score</th>\n",
       "      <th>mean_test_score</th>\n",
       "      <th>std_test_score</th>\n",
       "      <th>rank_test_score</th>\n",
       "    </tr>\n",
       "  </thead>\n",
       "  <tbody>\n",
       "    <tr>\n",
       "      <th>2</th>\n",
       "      <td>149.745674</td>\n",
       "      <td>18.334229</td>\n",
       "      <td>25.934194</td>\n",
       "      <td>7.374476</td>\n",
       "      <td>0.001</td>\n",
       "      <td>0.3</td>\n",
       "      <td>200</td>\n",
       "      <td>64</td>\n",
       "      <td>{'estimator__regressor__l2_regularization': 0....</td>\n",
       "      <td>-14.505608</td>\n",
       "      <td>-14.588838</td>\n",
       "      <td>-14.487175</td>\n",
       "      <td>-14.781117</td>\n",
       "      <td>-14.964623</td>\n",
       "      <td>-14.665472</td>\n",
       "      <td>0.182255</td>\n",
       "      <td>1</td>\n",
       "    </tr>\n",
       "    <tr>\n",
       "      <th>1</th>\n",
       "      <td>180.016893</td>\n",
       "      <td>8.737514</td>\n",
       "      <td>29.727730</td>\n",
       "      <td>5.085002</td>\n",
       "      <td>0.001</td>\n",
       "      <td>0.1</td>\n",
       "      <td>200</td>\n",
       "      <td>64</td>\n",
       "      <td>{'estimator__regressor__l2_regularization': 0....</td>\n",
       "      <td>-14.826480</td>\n",
       "      <td>-14.837915</td>\n",
       "      <td>-14.707222</td>\n",
       "      <td>-15.134198</td>\n",
       "      <td>-15.292665</td>\n",
       "      <td>-14.959696</td>\n",
       "      <td>0.218009</td>\n",
       "      <td>2</td>\n",
       "    </tr>\n",
       "    <tr>\n",
       "      <th>0</th>\n",
       "      <td>207.945059</td>\n",
       "      <td>38.068412</td>\n",
       "      <td>31.896251</td>\n",
       "      <td>6.432260</td>\n",
       "      <td>0.001</td>\n",
       "      <td>0.03</td>\n",
       "      <td>200</td>\n",
       "      <td>64</td>\n",
       "      <td>{'estimator__regressor__l2_regularization': 0....</td>\n",
       "      <td>-15.182868</td>\n",
       "      <td>-15.213553</td>\n",
       "      <td>-15.153764</td>\n",
       "      <td>-15.610151</td>\n",
       "      <td>-15.799506</td>\n",
       "      <td>-15.391968</td>\n",
       "      <td>0.263054</td>\n",
       "      <td>3</td>\n",
       "    </tr>\n",
       "  </tbody>\n",
       "</table>\n",
       "</div>"
      ],
      "text/plain": [
       "   mean_fit_time  std_fit_time  mean_score_time  std_score_time  \\\n",
       "2     149.745674     18.334229        25.934194        7.374476   \n",
       "1     180.016893      8.737514        29.727730        5.085002   \n",
       "0     207.945059     38.068412        31.896251        6.432260   \n",
       "\n",
       "  param_estimator__regressor__l2_regularization  \\\n",
       "2                                         0.001   \n",
       "1                                         0.001   \n",
       "0                                         0.001   \n",
       "\n",
       "  param_estimator__regressor__learning_rate  \\\n",
       "2                                       0.3   \n",
       "1                                       0.1   \n",
       "0                                      0.03   \n",
       "\n",
       "  param_estimator__regressor__max_iter  \\\n",
       "2                                  200   \n",
       "1                                  200   \n",
       "0                                  200   \n",
       "\n",
       "  param_estimator__regressor__max_leaf_nodes  \\\n",
       "2                                         64   \n",
       "1                                         64   \n",
       "0                                         64   \n",
       "\n",
       "                                              params  split0_test_score  \\\n",
       "2  {'estimator__regressor__l2_regularization': 0....         -14.505608   \n",
       "1  {'estimator__regressor__l2_regularization': 0....         -14.826480   \n",
       "0  {'estimator__regressor__l2_regularization': 0....         -15.182868   \n",
       "\n",
       "   split1_test_score  split2_test_score  split3_test_score  split4_test_score  \\\n",
       "2         -14.588838         -14.487175         -14.781117         -14.964623   \n",
       "1         -14.837915         -14.707222         -15.134198         -15.292665   \n",
       "0         -15.213553         -15.153764         -15.610151         -15.799506   \n",
       "\n",
       "   mean_test_score  std_test_score  rank_test_score  \n",
       "2       -14.665472        0.182255                1  \n",
       "1       -14.959696        0.218009                2  \n",
       "0       -15.391968        0.263054                3  "
      ]
     },
     "execution_count": 29,
     "metadata": {},
     "output_type": "execute_result"
    }
   ],
   "source": [
    "search_results = pd.DataFrame(search.cv_results_).sort_values(\"rank_test_score\", ascending=True)\n",
    "search_results.to_csv(\"search_results/10-adsize_features-tuned_HGBRegressor.csv\")\n",
    "search_results.head(10)"
   ]
  },
  {
   "cell_type": "code",
   "execution_count": null,
   "id": "6cee2cea",
   "metadata": {},
   "outputs": [
    {
     "data": {
      "text/plain": [
       "-14.665472005547025"
      ]
     },
     "execution_count": 30,
     "metadata": {},
     "output_type": "execute_result"
    }
   ],
   "source": [
    "search.best_score_"
   ]
  },
  {
   "cell_type": "code",
   "execution_count": null,
   "id": "1f2a84c6-552c-4e26-8f32-47a6fdddecdf",
   "metadata": {},
   "outputs": [
    {
     "data": {
      "text/plain": [
       "{'estimator__regressor__l2_regularization': 0.001,\n",
       " 'estimator__regressor__learning_rate': 0.3,\n",
       " 'estimator__regressor__max_iter': 200,\n",
       " 'estimator__regressor__max_leaf_nodes': 64}"
      ]
     },
     "execution_count": 31,
     "metadata": {},
     "output_type": "execute_result"
    }
   ],
   "source": [
    "search.best_params_"
   ]
  },
  {
   "cell_type": "markdown",
   "id": "cd8757a4",
   "metadata": {},
   "source": [
    "# Make predictions"
   ]
  },
  {
   "cell_type": "code",
   "execution_count": null,
   "id": "d92a2c23",
   "metadata": {},
   "outputs": [
    {
     "data": {
      "text/html": [
       "<div>\n",
       "<style scoped>\n",
       "    .dataframe tbody tr th:only-of-type {\n",
       "        vertical-align: middle;\n",
       "    }\n",
       "\n",
       "    .dataframe tbody tr th {\n",
       "        vertical-align: top;\n",
       "    }\n",
       "\n",
       "    .dataframe thead th {\n",
       "        text-align: right;\n",
       "    }\n",
       "</style>\n",
       "<table border=\"1\" class=\"dataframe\">\n",
       "  <thead>\n",
       "    <tr style=\"text-align: right;\">\n",
       "      <th></th>\n",
       "      <th>deviceId</th>\n",
       "      <th>winBid</th>\n",
       "    </tr>\n",
       "  </thead>\n",
       "  <tbody>\n",
       "    <tr>\n",
       "      <th>0</th>\n",
       "      <td>6a049646837</td>\n",
       "      <td>0.01</td>\n",
       "    </tr>\n",
       "    <tr>\n",
       "      <th>1</th>\n",
       "      <td>6a0616b862a</td>\n",
       "      <td>0.01</td>\n",
       "    </tr>\n",
       "    <tr>\n",
       "      <th>2</th>\n",
       "      <td>6a0769d0ad5</td>\n",
       "      <td>0.01</td>\n",
       "    </tr>\n",
       "    <tr>\n",
       "      <th>3</th>\n",
       "      <td>6a0dc74cfeb</td>\n",
       "      <td>0.01</td>\n",
       "    </tr>\n",
       "    <tr>\n",
       "      <th>4</th>\n",
       "      <td>6a0e80f23a7</td>\n",
       "      <td>0.01</td>\n",
       "    </tr>\n",
       "  </tbody>\n",
       "</table>\n",
       "</div>"
      ],
      "text/plain": [
       "      deviceId  winBid\n",
       "0  6a049646837    0.01\n",
       "1  6a0616b862a    0.01\n",
       "2  6a0769d0ad5    0.01\n",
       "3  6a0dc74cfeb    0.01\n",
       "4  6a0e80f23a7    0.01"
      ]
     },
     "execution_count": 32,
     "metadata": {},
     "output_type": "execute_result"
    }
   ],
   "source": [
    "sample_submission = pd.read_csv(\"data/sample_submission.csv\")\n",
    "sample_submission.head()"
   ]
  },
  {
   "cell_type": "code",
   "execution_count": null,
   "id": "cee42fe4",
   "metadata": {},
   "outputs": [],
   "source": [
    "test_data = pd.read_csv(\"data/test_data.csv\")"
   ]
  },
  {
   "cell_type": "code",
   "execution_count": null,
   "id": "190223c6",
   "metadata": {},
   "outputs": [],
   "source": [
    "test_data = augment_with_parsing(test_data)\n",
    "test_data[\"deviceOrientation\"] = test_data[\"size\"].map(ad_size_orientation).astype(\"category\")\n",
    "test_data[\"deviceType\"] = test_data[\"size\"].map(ad_size_device_type).astype(\"category\")"
   ]
  },
  {
   "cell_type": "code",
   "execution_count": null,
   "id": "f6428861",
   "metadata": {},
   "outputs": [
    {
     "data": {
      "text/html": [
       "<div>\n",
       "<style scoped>\n",
       "    .dataframe tbody tr th:only-of-type {\n",
       "        vertical-align: middle;\n",
       "    }\n",
       "\n",
       "    .dataframe tbody tr th {\n",
       "        vertical-align: top;\n",
       "    }\n",
       "\n",
       "    .dataframe thead th {\n",
       "        text-align: right;\n",
       "    }\n",
       "</style>\n",
       "<table border=\"1\" class=\"dataframe\">\n",
       "  <thead>\n",
       "    <tr style=\"text-align: right;\">\n",
       "      <th></th>\n",
       "      <th>eventTimestamp</th>\n",
       "      <th>unitDisplayType</th>\n",
       "      <th>brandName</th>\n",
       "      <th>bundleId</th>\n",
       "      <th>appVersion</th>\n",
       "      <th>correctModelName</th>\n",
       "      <th>countryCode</th>\n",
       "      <th>deviceId</th>\n",
       "      <th>osAndVersion</th>\n",
       "      <th>connectionType</th>\n",
       "      <th>...</th>\n",
       "      <th>c4</th>\n",
       "      <th>size</th>\n",
       "      <th>mediationProviderVersion</th>\n",
       "      <th>bidFloorPrice</th>\n",
       "      <th>sentPrice</th>\n",
       "      <th>weekday</th>\n",
       "      <th>hour</th>\n",
       "      <th>dayOfYear</th>\n",
       "      <th>os</th>\n",
       "      <th>osVersion</th>\n",
       "    </tr>\n",
       "  </thead>\n",
       "  <tbody>\n",
       "    <tr>\n",
       "      <th>0</th>\n",
       "      <td>2022-07-14 00:34:17.892</td>\n",
       "      <td>rewarded</td>\n",
       "      <td>Generic</td>\n",
       "      <td>com.loop.match3d</td>\n",
       "      <td>1245.35.0</td>\n",
       "      <td>Android 4 Tablet</td>\n",
       "      <td>US</td>\n",
       "      <td>6a0a94554cf</td>\n",
       "      <td>Android-4.0</td>\n",
       "      <td>3G</td>\n",
       "      <td>...</td>\n",
       "      <td>2.0</td>\n",
       "      <td>768x1024</td>\n",
       "      <td>11.4.3</td>\n",
       "      <td>0.05</td>\n",
       "      <td>0.06</td>\n",
       "      <td>3</td>\n",
       "      <td>0</td>\n",
       "      <td>195</td>\n",
       "      <td>Android</td>\n",
       "      <td>4.0</td>\n",
       "    </tr>\n",
       "    <tr>\n",
       "      <th>1</th>\n",
       "      <td>2022-07-07 16:18:27.978</td>\n",
       "      <td>interstitial</td>\n",
       "      <td>Generic</td>\n",
       "      <td>com.loop.match3d</td>\n",
       "      <td>1245.35.0</td>\n",
       "      <td>Android 4.0</td>\n",
       "      <td>ZA</td>\n",
       "      <td>6a0b0e59f45</td>\n",
       "      <td>Android-4.0</td>\n",
       "      <td>WIFI</td>\n",
       "      <td>...</td>\n",
       "      <td>6.0</td>\n",
       "      <td>320x480</td>\n",
       "      <td>11.4.3</td>\n",
       "      <td>0.01</td>\n",
       "      <td>0.16</td>\n",
       "      <td>3</td>\n",
       "      <td>16</td>\n",
       "      <td>188</td>\n",
       "      <td>Android</td>\n",
       "      <td>4.0</td>\n",
       "    </tr>\n",
       "    <tr>\n",
       "      <th>2</th>\n",
       "      <td>2022-07-09 18:55:39.412</td>\n",
       "      <td>interstitial</td>\n",
       "      <td>Motorola</td>\n",
       "      <td>com.YayySAL.DodgeAgent</td>\n",
       "      <td>13.0.02</td>\n",
       "      <td>Moto g(8) power lite</td>\n",
       "      <td>BR</td>\n",
       "      <td>6a0fa820c46</td>\n",
       "      <td>Android-10.0</td>\n",
       "      <td>WIFI</td>\n",
       "      <td>...</td>\n",
       "      <td>9.0</td>\n",
       "      <td>320x480</td>\n",
       "      <td>11.0.0</td>\n",
       "      <td>0.05</td>\n",
       "      <td>0.06</td>\n",
       "      <td>5</td>\n",
       "      <td>18</td>\n",
       "      <td>190</td>\n",
       "      <td>Android</td>\n",
       "      <td>10.0</td>\n",
       "    </tr>\n",
       "    <tr>\n",
       "      <th>3</th>\n",
       "      <td>2022-07-09 17:13:36.882</td>\n",
       "      <td>interstitial</td>\n",
       "      <td>Huawei</td>\n",
       "      <td>com.tintash.nailsalon</td>\n",
       "      <td>1.3.6</td>\n",
       "      <td>JDN2-AL00HN</td>\n",
       "      <td>IQ</td>\n",
       "      <td>6a142bdbea2</td>\n",
       "      <td>Android-9.0</td>\n",
       "      <td>WIFI</td>\n",
       "      <td>...</td>\n",
       "      <td>4.0</td>\n",
       "      <td>768x1024</td>\n",
       "      <td>11.3.3</td>\n",
       "      <td>0.01</td>\n",
       "      <td>0.05</td>\n",
       "      <td>5</td>\n",
       "      <td>17</td>\n",
       "      <td>190</td>\n",
       "      <td>Android</td>\n",
       "      <td>9.0</td>\n",
       "    </tr>\n",
       "    <tr>\n",
       "      <th>4</th>\n",
       "      <td>2022-07-07 16:33:20.823</td>\n",
       "      <td>banner</td>\n",
       "      <td>Generic</td>\n",
       "      <td>com.tilegarden.match3</td>\n",
       "      <td>1.8.52</td>\n",
       "      <td>Android 4.0</td>\n",
       "      <td>US</td>\n",
       "      <td>6a16943a771</td>\n",
       "      <td>Android-4.0</td>\n",
       "      <td>WIFI</td>\n",
       "      <td>...</td>\n",
       "      <td>5.0</td>\n",
       "      <td>320x50</td>\n",
       "      <td>11.4.3</td>\n",
       "      <td>0.01</td>\n",
       "      <td>0.03</td>\n",
       "      <td>3</td>\n",
       "      <td>16</td>\n",
       "      <td>188</td>\n",
       "      <td>Android</td>\n",
       "      <td>4.0</td>\n",
       "    </tr>\n",
       "  </tbody>\n",
       "</table>\n",
       "<p>5 rows × 23 columns</p>\n",
       "</div>"
      ],
      "text/plain": [
       "           eventTimestamp unitDisplayType brandName                bundleId  \\\n",
       "0 2022-07-14 00:34:17.892        rewarded   Generic        com.loop.match3d   \n",
       "1 2022-07-07 16:18:27.978    interstitial   Generic        com.loop.match3d   \n",
       "2 2022-07-09 18:55:39.412    interstitial  Motorola  com.YayySAL.DodgeAgent   \n",
       "3 2022-07-09 17:13:36.882    interstitial    Huawei   com.tintash.nailsalon   \n",
       "4 2022-07-07 16:33:20.823          banner   Generic   com.tilegarden.match3   \n",
       "\n",
       "  appVersion      correctModelName countryCode     deviceId  osAndVersion  \\\n",
       "0  1245.35.0      Android 4 Tablet          US  6a0a94554cf   Android-4.0   \n",
       "1  1245.35.0           Android 4.0          ZA  6a0b0e59f45   Android-4.0   \n",
       "2    13.0.02  Moto g(8) power lite          BR  6a0fa820c46  Android-10.0   \n",
       "3      1.3.6           JDN2-AL00HN          IQ  6a142bdbea2   Android-9.0   \n",
       "4     1.8.52           Android 4.0          US  6a16943a771   Android-4.0   \n",
       "\n",
       "  connectionType  ...   c4      size mediationProviderVersion  bidFloorPrice  \\\n",
       "0             3G  ...  2.0  768x1024                   11.4.3           0.05   \n",
       "1           WIFI  ...  6.0   320x480                   11.4.3           0.01   \n",
       "2           WIFI  ...  9.0   320x480                   11.0.0           0.05   \n",
       "3           WIFI  ...  4.0  768x1024                   11.3.3           0.01   \n",
       "4           WIFI  ...  5.0    320x50                   11.4.3           0.01   \n",
       "\n",
       "  sentPrice weekday  hour  dayOfYear       os  osVersion  \n",
       "0      0.06       3     0        195  Android        4.0  \n",
       "1      0.16       3    16        188  Android        4.0  \n",
       "2      0.06       5    18        190  Android       10.0  \n",
       "3      0.05       5    17        190  Android        9.0  \n",
       "4      0.03       3    16        188  Android        4.0  \n",
       "\n",
       "[5 rows x 23 columns]"
      ]
     },
     "execution_count": 35,
     "metadata": {},
     "output_type": "execute_result"
    }
   ],
   "source": [
    "test_data.head()"
   ]
  },
  {
   "cell_type": "code",
   "execution_count": null,
   "id": "fb0aa69e",
   "metadata": {},
   "outputs": [],
   "source": [
    "win_bid_predictions = search.predict(test_data[feature_cols])\n",
    "win_bid_predictions = pd.Series(win_bid_predictions).apply(lambda x: np.max([x, 0.01]))"
   ]
  },
  {
   "cell_type": "code",
   "execution_count": null,
   "id": "da24ca1c",
   "metadata": {},
   "outputs": [
    {
     "data": {
      "text/html": [
       "<div>\n",
       "<style scoped>\n",
       "    .dataframe tbody tr th:only-of-type {\n",
       "        vertical-align: middle;\n",
       "    }\n",
       "\n",
       "    .dataframe tbody tr th {\n",
       "        vertical-align: top;\n",
       "    }\n",
       "\n",
       "    .dataframe thead th {\n",
       "        text-align: right;\n",
       "    }\n",
       "</style>\n",
       "<table border=\"1\" class=\"dataframe\">\n",
       "  <thead>\n",
       "    <tr style=\"text-align: right;\">\n",
       "      <th></th>\n",
       "      <th>deviceId</th>\n",
       "      <th>winBid</th>\n",
       "    </tr>\n",
       "  </thead>\n",
       "  <tbody>\n",
       "    <tr>\n",
       "      <th>0</th>\n",
       "      <td>6a0a94554cf</td>\n",
       "      <td>27.596567</td>\n",
       "    </tr>\n",
       "    <tr>\n",
       "      <th>1</th>\n",
       "      <td>6a0b0e59f45</td>\n",
       "      <td>2.831407</td>\n",
       "    </tr>\n",
       "    <tr>\n",
       "      <th>2</th>\n",
       "      <td>6a0fa820c46</td>\n",
       "      <td>3.732666</td>\n",
       "    </tr>\n",
       "    <tr>\n",
       "      <th>3</th>\n",
       "      <td>6a142bdbea2</td>\n",
       "      <td>2.057763</td>\n",
       "    </tr>\n",
       "    <tr>\n",
       "      <th>4</th>\n",
       "      <td>6a16943a771</td>\n",
       "      <td>1.100353</td>\n",
       "    </tr>\n",
       "  </tbody>\n",
       "</table>\n",
       "</div>"
      ],
      "text/plain": [
       "      deviceId     winBid\n",
       "0  6a0a94554cf  27.596567\n",
       "1  6a0b0e59f45   2.831407\n",
       "2  6a0fa820c46   3.732666\n",
       "3  6a142bdbea2   2.057763\n",
       "4  6a16943a771   1.100353"
      ]
     },
     "execution_count": 38,
     "metadata": {},
     "output_type": "execute_result"
    }
   ],
   "source": [
    "submission = pd.DataFrame({\"deviceId\": test_data[\"deviceId\"], \"winBid\": win_bid_predictions})\n",
    "submission.head()"
   ]
  },
  {
   "cell_type": "code",
   "execution_count": null,
   "id": "49455191",
   "metadata": {},
   "outputs": [],
   "source": [
    "submission.to_csv(\"submissions/submission_10.csv\", header=True, index=False)"
   ]
  },
  {
   "cell_type": "code",
   "execution_count": null,
   "id": "763e0afa",
   "metadata": {},
   "outputs": [],
   "source": []
  }
 ],
 "metadata": {
  "kernelspec": {
   "display_name": "Python 3.8.10 ('venv': venv)",
   "language": "python",
   "name": "python3"
  },
  "language_info": {
   "codemirror_mode": {
    "name": "ipython",
    "version": 3
   },
   "file_extension": ".py",
   "mimetype": "text/x-python",
   "name": "python",
   "nbconvert_exporter": "python",
   "pygments_lexer": "ipython3",
   "version": "3.8.10 (default, Nov 14 2022, 12:59:47) \n[GCC 9.4.0]"
  },
  "vscode": {
   "interpreter": {
    "hash": "afc7f7bf0293e44f61633b03b161a42a292ac790fe90207f441ddb8cb1e15314"
   }
  }
 },
 "nbformat": 4,
 "nbformat_minor": 5
}
